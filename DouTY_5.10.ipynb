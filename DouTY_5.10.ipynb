{
 "cells": [
  {
   "cell_type": "markdown",
   "metadata": {
    "slideshow": {
     "slide_type": "slide"
    }
   },
   "source": [
    "ChIP-Seq Mapping and Visualization pipeline\n",
    "                         Tongyi Dou"
   ]
  },
  {
   "cell_type": "markdown",
   "metadata": {
    "slideshow": {
     "slide_type": "fragment"
    }
   },
   "source": [
    "![ChIP-Seq Overview](https://biosakshat.weebly.com/uploads/1/2/5/1/12512943/chip-seq-overview-dna-bound-protein-fragment-dna-immunoprecipitate_orig.jpg)"
   ]
  },
  {
   "cell_type": "code",
   "execution_count": 1,
   "metadata": {
    "pycharm": {
     "name": "#%%\n"
    },
    "slideshow": {
     "slide_type": "slide"
    }
   },
   "outputs": [
    {
     "ename": "SyntaxError",
     "evalue": "invalid syntax (<ipython-input-1-2ec2dc8721c3>, line 2)",
     "output_type": "error",
     "traceback": [
      "\u001b[1;36m  File \u001b[1;32m\"<ipython-input-1-2ec2dc8721c3>\"\u001b[1;36m, line \u001b[1;32m2\u001b[0m\n\u001b[1;33m    sh Miniconda3-latest-Linux-x86_64.sh\u001b[0m\n\u001b[1;37m                ^\u001b[0m\n\u001b[1;31mSyntaxError\u001b[0m\u001b[1;31m:\u001b[0m invalid syntax\n"
     ]
    }
   ],
   "source": [
    "#Install Miniconda Python 3 Distribution on my Linux\n",
    "sh Miniconda3-latest-Linux-x86_64.sh"
   ]
  },
  {
   "cell_type": "code",
   "execution_count": null,
   "metadata": {
    "pycharm": {
     "name": "#%%\n"
    },
    "slideshow": {
     "slide_type": "subslide"
    }
   },
   "outputs": [],
   "source": [
    "#Install snakemake\n",
    "conda install -c bioconda -c conda-forge snakemake"
   ]
  },
  {
   "cell_type": "code",
   "execution_count": null,
   "metadata": {
    "pycharm": {
     "name": "#%%\n"
    },
    "slideshow": {
     "slide_type": "slide"
    }
   },
   "outputs": [],
   "source": [
    "First rule: Mapping"
   ]
  },
  {
   "cell_type": "code",
   "execution_count": null,
   "metadata": {
    "pycharm": {
     "name": "#%%\n"
    },
    "slideshow": {
     "slide_type": "fragment"
    }
   },
   "outputs": [],
   "source": [
    "vi snakefile01"
   ]
  },
  {
   "cell_type": "code",
   "execution_count": null,
   "metadata": {
    "pycharm": {
     "name": "#%%\n"
    },
    "slideshow": {
     "slide_type": "fragment"
    }
   },
   "outputs": [],
   "source": [
    "index = '/home/dell/RefGenome/hg19ebwt/hg19'\n",
    "\n",
    "rule bowtie_map:\n",
    "    input:\n",
    "        fq1 = 'FoxA1.fq',\n",
    "    output:\n",
    "        o1 = 'mapped_reads/FoxA1.out',\n",
    "        o2 = 'mapped_reads/FoxA1.sam',\n",
    "    shell:\n",
    "        'bowtie {index} -q {input.fq1} -m 1 -5 10 -3 10 -p 32 -S 2> {output.o1} >{output.o2}'"
   ]
  },
  {
   "cell_type": "code",
   "execution_count": null,
   "metadata": {
    "pycharm": {
     "name": "#%%\n"
    },
    "slideshow": {
     "slide_type": "slide"
    }
   },
   "outputs": [],
   "source": [
    "snakemake -ns snakefile01"
   ]
  },
  {
   "cell_type": "markdown",
   "metadata": {
    "pycharm": {
     "name": "#%% md\n"
    },
    "slideshow": {
     "slide_type": "slide"
    }
   },
   "source": [
    "![Enrichment](Step01-Bowtie_Map_01.png)"
   ]
  },
  {
   "cell_type": "code",
   "execution_count": 1,
   "metadata": {
    "pycharm": {
     "is_executing": false,
     "name": "#%%\n"
    },
    "slideshow": {
     "slide_type": "slide"
    }
   },
   "outputs": [
    {
     "ename": "SyntaxError",
     "evalue": "invalid syntax (<ipython-input-1-362c75d7be85>, line 1)",
     "output_type": "error",
     "traceback": [
      "\u001b[1;36m  File \u001b[1;32m\"<ipython-input-1-362c75d7be85>\"\u001b[1;36m, line \u001b[1;32m1\u001b[0m\n\u001b[1;33m    snakemake -ps snakefile01\u001b[0m\n\u001b[1;37m                            ^\u001b[0m\n\u001b[1;31mSyntaxError\u001b[0m\u001b[1;31m:\u001b[0m invalid syntax\n"
     ]
    }
   ],
   "source": [
    "snakemake -ps snakefile01"
   ]
  },
  {
   "cell_type": "markdown",
   "metadata": {
    "pycharm": {
     "name": "#%% md\n"
    },
    "slideshow": {
     "slide_type": "slide"
    }
   },
   "source": [
    "![Enrichment](Step01-Bowtie_Map_02.png)"
   ]
  },
  {
   "cell_type": "code",
   "execution_count": null,
   "metadata": {
    "pycharm": {
     "name": "#%%\n"
    },
    "slideshow": {
     "slide_type": "slide"
    }
   },
   "outputs": [],
   "source": [
    "Second rule: Sorting"
   ]
  },
  {
   "cell_type": "code",
   "execution_count": null,
   "metadata": {
    "pycharm": {
     "name": "#%%\n"
    },
    "slideshow": {
     "slide_type": "slide"
    }
   },
   "outputs": [],
   "source": [
    "vi snakefile02"
   ]
  },
  {
   "cell_type": "code",
   "execution_count": null,
   "metadata": {
    "pycharm": {
     "name": "#%%\n"
    },
    "slideshow": {
     "slide_type": "slide"
    }
   },
   "outputs": [],
   "source": [
    "rule samtools_sort:\n",
    "    input:\n",
    "        rules.bowtie_map.output.o2\n",
    "    output:\n",
    "        'sorted_reads/FoxA1.bam'\n",
    "    shell:\n",
    "        'samtools sort -@ 8 -o {output} {input}'"
   ]
  },
  {
   "cell_type": "code",
   "execution_count": null,
   "metadata": {
    "pycharm": {
     "name": "#%%\n"
    },
    "slideshow": {
     "slide_type": "slide"
    }
   },
   "outputs": [],
   "source": [
    "snakemake -ns snakefile02"
   ]
  },
  {
   "cell_type": "markdown",
   "metadata": {
    "slideshow": {
     "slide_type": "slide"
    }
   },
   "source": [
    "![](Step02-samtools_sort_01.png)"
   ]
  },
  {
   "cell_type": "code",
   "execution_count": null,
   "metadata": {
    "pycharm": {
     "name": "#%%\n"
    },
    "slideshow": {
     "slide_type": "slide"
    }
   },
   "outputs": [],
   "source": [
    "snakemake -ps snakefile02"
   ]
  },
  {
   "cell_type": "markdown",
   "metadata": {
    "slideshow": {
     "slide_type": "slide"
    }
   },
   "source": [
    "![](Step02-samtools_sort_02.png)"
   ]
  },
  {
   "cell_type": "code",
   "execution_count": null,
   "metadata": {
    "pycharm": {
     "name": "#%%\n"
    },
    "slideshow": {
     "slide_type": "slide"
    }
   },
   "outputs": [],
   "source": [
    "Third rule: Indexing"
   ]
  },
  {
   "cell_type": "code",
   "execution_count": null,
   "metadata": {
    "pycharm": {
     "name": "#%%\n"
    },
    "slideshow": {
     "slide_type": "slide"
    }
   },
   "outputs": [],
   "source": [
    "vi snakefile03"
   ]
  },
  {
   "cell_type": "code",
   "execution_count": null,
   "metadata": {
    "pycharm": {
     "name": "#%%\n"
    },
    "slideshow": {
     "slide_type": "slide"
    }
   },
   "outputs": [],
   "source": [
    "rule samtools_index:\n",
    "    input:\n",
    "        rules.samtools_sort.output \n",
    "    output:\n",
    "        'sorted_reads/FoxA1.bam.bai'\n",
    "    shell:\n",
    "        'samtools index {input} {output}'"
   ]
  },
  {
   "cell_type": "code",
   "execution_count": null,
   "metadata": {
    "pycharm": {
     "name": "#%%\n"
    },
    "slideshow": {
     "slide_type": "slide"
    }
   },
   "outputs": [],
   "source": [
    "snakemake -ns snakefile03"
   ]
  },
  {
   "cell_type": "markdown",
   "metadata": {
    "slideshow": {
     "slide_type": "slide"
    }
   },
   "source": [
    "![](Step03-samtools_index_01.png)"
   ]
  },
  {
   "cell_type": "code",
   "execution_count": null,
   "metadata": {
    "pycharm": {
     "name": "#%%\n"
    },
    "slideshow": {
     "slide_type": "slide"
    }
   },
   "outputs": [],
   "source": [
    "snakemake -ps snakefile03"
   ]
  },
  {
   "cell_type": "markdown",
   "metadata": {
    "slideshow": {
     "slide_type": "slide"
    }
   },
   "source": [
    "![](Step03-samtools_index_02.png)"
   ]
  },
  {
   "cell_type": "code",
   "execution_count": null,
   "metadata": {
    "pycharm": {
     "name": "#%%\n"
    },
    "slideshow": {
     "slide_type": "slide"
    }
   },
   "outputs": [],
   "source": [
    "Combine rules"
   ]
  },
  {
   "cell_type": "code",
   "execution_count": null,
   "metadata": {
    "pycharm": {
     "name": "#%%\n"
    },
    "slideshow": {
     "slide_type": "slide"
    }
   },
   "outputs": [],
   "source": [
    "vi snakefile04"
   ]
  },
  {
   "cell_type": "code",
   "execution_count": null,
   "metadata": {
    "pycharm": {
     "name": "#%%\n"
    },
    "slideshow": {
     "slide_type": "slide"
    }
   },
   "outputs": [],
   "source": [
    "rule all:\n",
    "    input:\n",
    "        'sorted_reads/FoxA1.bam.bai'\n",
    "\n",
    "index = '/home/dell/RefGenome/hg19ebwt/hg19'\n",
    "\n",
    "rule bowtie_map:\n",
    "    input:\n",
    "        fq1 = 'FoxA1.fq',\n",
    "    output:\n",
    "        o1 = 'mapped_reads/FoxA1.out',\n",
    "        o2 = 'mapped_reads/FoxA1.sam',\n",
    "    shell:\n",
    "        'bowtie {index} -q {input.fq1} -m 1 -5 10 -3 10 -p 32 -S 2> {output.o1} >{output.o2}'\n",
    "\n",
    "rule samtools_sort:\n",
    "    input:\n",
    "        rules.bowtie_map.output.o2\n",
    "    output:\n",
    "        'sorted_reads/FoxA1.bam'\n",
    "    shell:\n",
    "        'samtools sort -@ 8 -o {output} {input}'\n",
    "        \n",
    "rule samtools_index:\n",
    "    input:\n",
    "        rules.samtools_sort.output \n",
    "    output:\n",
    "        'sorted_reads/FoxA1.bam.bai'\n",
    "    shell:\n",
    "        'samtools index {input} {output}'"
   ]
  },
  {
   "cell_type": "code",
   "execution_count": null,
   "metadata": {
    "pycharm": {
     "name": "#%%\n"
    },
    "slideshow": {
     "slide_type": "slide"
    }
   },
   "outputs": [],
   "source": [
    "snakemake -ns snakefile04"
   ]
  },
  {
   "cell_type": "markdown",
   "metadata": {
    "slideshow": {
     "slide_type": "slide"
    }
   },
   "source": [
    "![](Step04-AllStep_01.png)"
   ]
  },
  {
   "cell_type": "code",
   "execution_count": null,
   "metadata": {
    "pycharm": {
     "name": "#%%\n"
    },
    "slideshow": {
     "slide_type": "slide"
    }
   },
   "outputs": [],
   "source": [
    "snakemake -ps snakefile04"
   ]
  },
  {
   "cell_type": "markdown",
   "metadata": {
    "slideshow": {
     "slide_type": "slide"
    }
   },
   "source": [
    "![](Step04-AllStep_02.png)\n",
    "![](Step04-AllStep_03.png)"
   ]
  },
  {
   "cell_type": "code",
   "execution_count": null,
   "metadata": {
    "pycharm": {
     "name": "#%%\n"
    },
    "slideshow": {
     "slide_type": "slide"
    }
   },
   "outputs": [],
   "source": [
    "Use Wildcards"
   ]
  },
  {
   "cell_type": "code",
   "execution_count": null,
   "metadata": {
    "pycharm": {
     "name": "#%%\n"
    },
    "slideshow": {
     "slide_type": "slide"
    }
   },
   "outputs": [],
   "source": [
    "vi snakefile05"
   ]
  },
  {
   "cell_type": "code",
   "execution_count": null,
   "metadata": {
    "pycharm": {
     "name": "#%%\n"
    },
    "slideshow": {
     "slide_type": "slide"
    }
   },
   "outputs": [],
   "source": [
    "rule all:\n",
    "    input:\n",
    "        'sorted_reads/{sample}.bam.bai'\n",
    "\n",
    "index = '/home/dell/RefGenome/hg19ebwt/hg19'\n",
    "\n",
    "rule bowtie_map:\n",
    "    input:\n",
    "        fq1 = '{sample}.fq',\n",
    "    output:\n",
    "        o1 = 'mapped_reads/{sample}.out',\n",
    "        o2 = 'mapped_reads/{sample}.sam',\n",
    "    shell:\n",
    "        'bowtie {index} -q {input.fq1} -m 1 -5 10 -3 10 -p 32 -S 2> {output.o1} >{output.o2}'\n",
    "\n",
    "rule samtools_sort:\n",
    "    input:\n",
    "        rules.bowtie_map.output.o2\n",
    "    output:\n",
    "        'sorted_reads/{sample}.bam'\n",
    "    shell:\n",
    "        'samtools sort -@ 8 -o {output} {input}'\n",
    "\n",
    "rule samtools_index:\n",
    "    input:\n",
    "        rules.samtools_sort.output \n",
    "    output:\n",
    "        'sorted_reads/{sample}.bam.bai'\n",
    "    shell:\n",
    "        'samtools index {input} {output}'"
   ]
  },
  {
   "cell_type": "code",
   "execution_count": null,
   "metadata": {
    "pycharm": {
     "name": "#%%\n"
    },
    "slideshow": {
     "slide_type": "slide"
    }
   },
   "outputs": [],
   "source": [
    "snakemake -ns snakefile sorted_reads/FoxA1.bam.bai sorted_reads/Input.bam.bai sorted_reads/298-301.bam.bai"
   ]
  },
  {
   "cell_type": "markdown",
   "metadata": {
    "slideshow": {
     "slide_type": "slide"
    }
   },
   "source": [
    "![](Step05-WildCard_01.png)"
   ]
  },
  {
   "cell_type": "code",
   "execution_count": null,
   "metadata": {
    "pycharm": {
     "name": "#%%\n"
    },
    "slideshow": {
     "slide_type": "slide"
    }
   },
   "outputs": [],
   "source": [
    "snakemake -ps snakefile sorted_reads/FoxA1.bam.bai sorted_reads/Input.bam.bai sorted_reads/298-301.bam.bai"
   ]
  },
  {
   "cell_type": "markdown",
   "metadata": {
    "slideshow": {
     "slide_type": "slide"
    }
   },
   "source": [
    "![](Step05-WildCard_02.png)\n",
    "![](Step05-WildCard_03.png)"
   ]
  },
  {
   "cell_type": "code",
   "execution_count": null,
   "outputs": [],
   "source": [
    "Add more rules..."
   ],
   "metadata": {
    "collapsed": false,
    "pycharm": {
     "name": "#%% \n"
    }
   }
  },
  {
   "cell_type": "code",
   "execution_count": null,
   "outputs": [],
   "source": [
    "rule all:\n",
    "    input:\n",
    "        'sorted_reads/{sample}.bam.bai',\n",
    "        'sorted_reads/{sample}.bw',\n",
    "        'read_coverage/{sample}_matrix_TSS.gz',\n",
    "        'read_coverage/{sample}_regions_genes.bed',\n",
    "        'peak_visualization/{sample}_Profile.png',\n",
    "        'peak_visualization/{sample}_Heatmap.png'\n",
    "\n",
    "index = '/home/dell/RefGenome/hg19ebwt/hg19'\n",
    "reference = '/home/dell/Downloads/Galaxy1-[UCSC_Main_on_Human__xenoRefGene_(genome)].bed'\n",
    "\n",
    "rule bowtie_map:\n",
    "    input:\n",
    "        fq1 = '{sample}.fq',\n",
    "    output:\n",
    "        o1 = 'mapped_reads/{sample}.out',\n",
    "        o2 = 'mapped_reads/{sample}.sam'\n",
    "    shell:\n",
    "        'bowtie {index} -q {input.fq1} -m 1 -5 10 -3 10 -p 32 -S 2> {output.o1} >{output.o2}'\n",
    "\n",
    "rule samtools_sort:\n",
    "    input:\n",
    "        rules.bowtie_map.output.o2\n",
    "    output:\n",
    "        'sorted_reads/{sample}.bam'\n",
    "    shell:\n",
    "        'samtools sort -@ 8 -o {output} {input}'\n",
    "\n",
    "rule samtools_index:\n",
    "    input:\n",
    "        rules.samtools_sort.output \n",
    "    output:\n",
    "        'sorted_reads/{sample}.bam.bai'\n",
    "    shell:\n",
    "        'samtools index {input} {output}'\n",
    "\n",
    "rule bam2bw:\n",
    "    input:\n",
    "        rules.samtools_sort.output \n",
    "    output:\n",
    "        'sorted_reads/{sample}.bw'\n",
    "    shell:\n",
    "        'bamCoverage -e 170 -bs 10 -b {input} -o {output}'\n",
    "\n",
    "rule computeMatrix:\n",
    "    input:\n",
    "        rules.bam2bw.output \n",
    "    output:\n",
    "        o1 = 'read_coverage/{sample}_matrix_TSS.gz',\n",
    "        o2 = 'read_coverage/{sample}_regions_genes.bed'\n",
    "    shell:\n",
    "        'computeMatrix reference-point --referencePoint TSS -b 3000 -a 5000 -R {reference} -S {input} --skipZeros -out {output.o1} --outFileSortedRegions {output.o2}'\n",
    "\n",
    "rule peak_visualization:\n",
    "    input:\n",
    "        rules.computeMatrix.output.o1\n",
    "    output:\n",
    "        o1 = 'peak_visualization/{sample}_Profile.png',\n",
    "        o2 = 'peak_visualization/{sample}_Heatmap.png'\n",
    "    shell:\n",
    "        'plotProfile -m {input} -out {output.o1} --numPlotsPerRow 2 --plotTitle \"Data profile\"'\n",
    "        'plotHeatmap -m {input} -out {output.o2}'"
   ],
   "metadata": {
    "collapsed": false,
    "pycharm": {
     "name": "#%%\n"
    }
   }
  },
  {
   "cell_type": "code",
   "execution_count": null,
   "outputs": [],
   "source": [
    "snakemake -ns snakefile peak_visualization/FoxA1_Profile.png peak_visualization/298-301_Profile.png peak_visualization/Input_Profile.png"
   ],
   "metadata": {
    "collapsed": false,
    "pycharm": {
     "name": "#%%\n"
    }
   }
  },
  {
   "cell_type": "markdown",
   "source": [
    "![](Step10_01.png)"
   ],
   "metadata": {
    "collapsed": false,
    "pycharm": {
     "name": "#%% md\n"
    }
   }
  },
  {
   "cell_type": "code",
   "execution_count": null,
   "metadata": {
    "pycharm": {
     "name": "#%%\n"
    },
    "slideshow": {
     "slide_type": "slide"
    }
   },
   "outputs": [],
   "source": [
    "Visualization of the DAG using the dot command"
   ]
  },
  {
   "cell_type": "code",
   "metadata": {
    "pycharm": {
     "name": "#%%\n"
    },
    "slideshow": {
     "slide_type": "slide"
    }
   },
   "source": [
    "snakemake -ns snakefile peak_visualization/FoxA1_Profile.png peak_visualization/298-301_Profile.png peak_visualization/Input_Profile.png --dag  | dot -Tsvg > dag.svg"
   ],
   "execution_count": null,
   "outputs": []
  },
  {
   "cell_type": "markdown",
   "source": [
    "![](bag.png)\n",
    "snakemake -ps snakefile peak_visualization/FoxA1_Profile.png peak_visualization/298-301_Profile.png peak_visualization/Input_Profile.png"
   ],
   "metadata": {
    "collapsed": false
   }
  },
  {
   "cell_type": "code",
   "execution_count": null,
   "metadata": {
    "pycharm": {
     "name": "#%%\n"
    },
    "slideshow": {
     "slide_type": "slide"
    }
   },
   "outputs": [],
   "source": [
    "Data Visualization using Deeptools"
   ]
  },
  {
   "cell_type": "markdown",
   "metadata": {
    "slideshow": {
     "slide_type": "slide"
    }
   },
   "source": [
    "![Enrichment](Enrichment.png)"
   ]
  },
  {
   "cell_type": "code",
   "execution_count": null,
   "metadata": {
    "pycharm": {
     "name": "#%%\n"
    },
    "slideshow": {
     "slide_type": "slide"
    }
   },
   "outputs": [],
   "source": [
    "#Data Visualization using the Integrative Genomics Viewer (IGV)\n"
   ]
  }
 ],
 "metadata": {
  "celltoolbar": "Slideshow",
  "kernelspec": {
   "display_name": "Python 3",
   "language": "python",
   "name": "python3"
  },
  "language_info": {
   "codemirror_mode": {
    "name": "ipython",
    "version": 3
   },
   "file_extension": ".py",
   "mimetype": "text/x-python",
   "name": "python",
   "nbconvert_exporter": "python",
   "pygments_lexer": "ipython3",
   "version": "3.7.3"
  },
  "pycharm": {
   "stem_cell": {
    "cell_type": "raw",
    "source": [],
    "metadata": {
     "collapsed": false
    }
   }
  }
 },
 "nbformat": 4,
 "nbformat_minor": 1
}