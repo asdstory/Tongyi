{
 "cells": [
  {
   "cell_type": "markdown",
   "source": [
    "![ChIP-Seq Overview](https://biosakshat.weebly.com/uploads/1/2/5/1/12512943/chip-seq-overview-dna-bound-protein-fragment-dna-immunoprecipitate_orig.jpg)"
   ],
   "metadata": {
    "collapsed": false
   }
  },
  {
   "cell_type": "code",
   "execution_count": null,
   "outputs": [],
   "source": [
    "#Install Miniconda Python 3 Distribution on my Linux\n",
    "sh Miniconda3-latest-Linux-x86_64.sh"
   ],
   "metadata": {
    "collapsed": false,
    "pycharm": {
     "name": "#%%\n"
    }
   }
  },
  {
   "cell_type": "code",
   "execution_count": null,
   "outputs": [],
   "source": [
    "#Install snakemake\n",
    "conda install -c bioconda -c conda-forge snakemake\n"
   ],
   "metadata": {
    "collapsed": false,
    "pycharm": {
     "name": "#%%\n"
    }
   }
  },
  {
   "cell_type": "code",
   "execution_count": null,
   "outputs": [],
   "source": [
    "conda"
   ],
   "metadata": {
    "collapsed": false,
    "pycharm": {
     "name": "#%%\n"
    }
   }
  },
  {
   "cell_type": "code",
   "execution_count": null,
   "outputs": [],
   "source": [
    "First rule: Mapping"
   ],
   "metadata": {
    "collapsed": false,
    "pycharm": {
     "name": "#%%\n"
    }
   }
  },
  {
   "cell_type": "code",
   "execution_count": null,
   "outputs": [],
   "source": [
    "vi snakefile01"
   ],
   "metadata": {
    "collapsed": false,
    "pycharm": {
     "name": "#%%\n"
    }
   }
  },
  {
   "cell_type": "code",
   "execution_count": null,
   "outputs": [],
   "source": [
    "index = '/home/dell/RefGenome/hg19ebwt/hg19'\n",
    "\n",
    "rule bowtie_map:\n",
    "    input:\n",
    "        fq1 = 'FoxA1.fq',\n",
    "    output:\n",
    "        o1 = 'mapped_reads/FoxA1.out',\n",
    "        o2 = 'mapped_reads/FoxA1.sam',\n",
    "    shell:\n",
    "        'bowtie {index} -q {input.fq1} -m 1 -5 10 -3 10 -p 32 -S 2> {output.o1} >{output.o2}'"
   ],
   "metadata": {
    "collapsed": false,
    "pycharm": {
     "name": "#%%\n"
    }
   }
  },
  {
   "cell_type": "code",
   "execution_count": null,
   "outputs": [],
   "source": [
    "snakemake -ns snakefile01"
   ],
   "metadata": {
    "collapsed": false,
    "pycharm": {
     "name": "#%%\n"
    }
   }
  },
  {
   "cell_type": "code",
   "execution_count": null,
   "outputs": [],
   "source": [
    "Results\n"
   ],
   "metadata": {
    "collapsed": false,
    "pycharm": {
     "name": "#%%\n"
    }
   }
  },
  {
   "cell_type": "code",
   "execution_count": null,
   "outputs": [],
   "source": [
    "snakemake -ps snakefile01"
   ],
   "metadata": {
    "collapsed": false,
    "pycharm": {
     "name": "#%%\n"
    }
   }
  },
  {
   "cell_type": "code",
   "execution_count": null,
   "outputs": [],
   "source": [
    "Results\n",
    "\n",
    "\n",
    "\n",
    "\n",
    "\n",
    "\n",
    "\n"
   ],
   "metadata": {
    "collapsed": false,
    "pycharm": {
     "name": "#%%\n"
    }
   }
  },
  {
   "cell_type": "code",
   "execution_count": null,
   "outputs": [],
   "source": [
    "%%writefile snakefile01\n",
    "\n",
    "# AUTHOR: DouTY\n",
    "\n",
    "'''\n",
    "This pipeline for ChIP-Seq data analysis, which goes from fastq to bam and bam.bai, ready for igv visualization.\n",
    "for single-end ChIP-Seq data, and requires a reference index.\n",
    "'''\n",
    "\n",
    "samples = 'FoxA1 Input 298-301'\n",
    "\n",
    "rule all:\n",
    "    input:\n",
    "        expand('/home/dell/DouTY/FoxA1/{sample}.fq', sample=samples.split(' '))\n",
    "\n",
    "rule bowtie_map:\n",
    "    input:\n",
    "        index = '/home/dell/RefGenome/hg19ebwt/hg19',\n",
    "        fq = '/home/dell/DouTY/FoxA1/{sample}.fq'\n",
    "    output:\n",
    "        o1 = '/home/dell/DouTY/FoxA1/mapped_reads/{sample}.out',\n",
    "        o2 = '/home/dell/DouTY/FoxA1/mapped_reads/{sample}.sam',\n",
    "    shell:\n",
    "        'bowtie -m 1 -5 10 -3 10 -p 32 -s {input.index} -q {input.fq} 2> {output.o1} >{output.o2}'\n",
    "        \n"
   ],
   "metadata": {
    "collapsed": false,
    "pycharm": {
     "name": "#%%\n"
    }
   }
  },
  {
   "cell_type": "code",
   "execution_count": null,
   "outputs": [],
   "source": [
    "!snakemake -ns snakefile01\n"
   ],
   "metadata": {
    "collapsed": false,
    "pycharm": {
     "name": "#%%\n"
    }
   }
  },
  {
   "cell_type": "code",
   "execution_count": null,
   "outputs": [],
   "source": [
    "!snakemake -ps snakefile01\n"
   ],
   "metadata": {
    "collapsed": false,
    "pycharm": {
     "name": "#%%\n"
    }
   }
  },
  {
   "cell_type": "markdown",
   "source": [
    "rule samtools_sort:\n",
    "    input:\n",
    "        '/home/dell/DouTY/FoxA1/mapped_reads/{sample}.sam'\n",
    "    output:\n",
    "        '/home/dell/DouTY/FoxA1/sorted_reads/{sample}.bam'\n",
    "    shell:\n",
    "        'samtools sort -@ 8 -o {input} {output}'\n",
    " \n",
    "\n",
    "   \n"
   ],
   "metadata": {
    "collapsed": false
   }
  },
  {
   "cell_type": "code",
   "execution_count": null,
   "outputs": [],
   "source": [
    "rule samtools_index:\n",
    "    input:\n",
    "        '/home/dell/DouTY/FoxA1/sorted_reads/{sample}.bam' \n",
    "    output:\n",
    "        '/home/dell/DouTY/FoxA1/sorted_reads/{sample}.bam.bai'\n",
    "    shell:\n",
    "        'samtools index {input}' \n"
   ],
   "metadata": {
    "collapsed": false,
    "pycharm": {
     "name": "#%%\n"
    }
   }
  },
  {
   "cell_type": "code",
   "execution_count": null,
   "outputs": [],
   "source": [
    "#Data Visualization using Deeptools\n",
    "\n",
    "plotEnrichment [-h] --bamfiles FoxA1.bam 298-301.bam Input.bam"
   ],
   "metadata": {
    "collapsed": false,
    "pycharm": {
     "name": "#%%\n"
    }
   }
  },
  {
   "cell_type": "markdown",
   "source": [
    "![Enrichment](Enrichment.png)"
   ],
   "metadata": {
    "collapsed": false
   }
  },
  {
   "cell_type": "code",
   "execution_count": null,
   "outputs": [],
   "source": [
    "#Data Visualization using the Integrative Genomics Viewer (IGV)\n"
   ],
   "metadata": {
    "collapsed": false,
    "pycharm": {
     "name": "#%%\n"
    }
   }
  }
 ],
 "metadata": {
  "celltoolbar": "Slideshow",
  "kernelspec": {
   "display_name": "Python 3",
   "language": "python",
   "name": "python3"
  },
  "language_info": {
   "codemirror_mode": {
    "name": "ipython",
    "version": 3
   },
   "file_extension": ".py",
   "mimetype": "text/x-python",
   "name": "python",
   "nbconvert_exporter": "python",
   "pygments_lexer": "ipython3",
   "version": "3.7.3"
  },
  "pycharm": {
   "stem_cell": {
    "cell_type": "raw",
    "source": [],
    "metadata": {
     "collapsed": false
    }
   }
  }
 },
 "nbformat": 4,
 "nbformat_minor": 1
}