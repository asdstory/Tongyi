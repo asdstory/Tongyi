{
 "cells": [
  {
   "cell_type": "markdown",
   "metadata": {
    "slideshow": {
     "slide_type": "slide"
    }
   },
   "source": [
    "ChIP-Seq Overview"
   ]
  },
  {
   "cell_type": "code",
   "execution_count": null,
   "metadata": {
    "slideshow": {
     "slide_type": "subslide"
    }
   },
   "outputs": [],
   "source": [
    "![ChIP-Seq Overview](https://biosakshat.weebly.com/uploads/1/2/5/1/12512943/chip-seq-overview-dna-bound-protein-fragment-dna-immunoprecipitate_orig.jpg)"
   ]
  },
  {
   "cell_type": "code",
   "execution_count": 1,
   "metadata": {
    "pycharm": {
     "name": "#%%\n"
    },
    "slideshow": {
     "slide_type": "slide"
    }
   },
   "outputs": [
    {
     "ename": "SyntaxError",
     "evalue": "invalid syntax (<ipython-input-1-2ec2dc8721c3>, line 2)",
     "output_type": "error",
     "traceback": [
      "\u001b[1;36m  File \u001b[1;32m\"<ipython-input-1-2ec2dc8721c3>\"\u001b[1;36m, line \u001b[1;32m2\u001b[0m\n\u001b[1;33m    sh Miniconda3-latest-Linux-x86_64.sh\u001b[0m\n\u001b[1;37m                ^\u001b[0m\n\u001b[1;31mSyntaxError\u001b[0m\u001b[1;31m:\u001b[0m invalid syntax\n"
     ]
    }
   ],
   "source": [
    "#Install Miniconda Python 3 Distribution on my Linux\n",
    "sh Miniconda3-latest-Linux-x86_64.sh"
   ]
  },
  {
   "cell_type": "code",
   "execution_count": null,
   "metadata": {
    "pycharm": {
     "name": "#%%\n"
    },
    "slideshow": {
     "slide_type": "subslide"
    }
   },
   "outputs": [],
   "source": [
    "#Install snakemake\n",
    "conda install -c bioconda -c conda-forge snakemake\n"
   ]
  },
  {
   "cell_type": "code",
   "execution_count": null,
   "metadata": {
    "pycharm": {
     "name": "#%%\n"
    },
    "slideshow": {
     "slide_type": "subslide"
    }
   },
   "outputs": [],
   "source": [
    "conda"
   ]
  },
  {
   "cell_type": "code",
   "execution_count": null,
   "metadata": {
    "pycharm": {
     "name": "#%%\n"
    },
    "slideshow": {
     "slide_type": "slide"
    }
   },
   "outputs": [],
   "source": [
    "First rule: Mapping"
   ]
  },
  {
   "cell_type": "code",
   "execution_count": null,
   "metadata": {
    "pycharm": {
     "name": "#%%\n"
    },
    "slideshow": {
     "slide_type": "subslide"
    }
   },
   "outputs": [],
   "source": [
    "vi snakefile01"
   ]
  },
  {
   "cell_type": "code",
   "execution_count": null,
   "metadata": {
    "pycharm": {
     "name": "#%%\n"
    },
    "slideshow": {
     "slide_type": "subslide"
    }
   },
   "outputs": [],
   "source": [
    "index = '/home/dell/RefGenome/hg19ebwt/hg19'\n",
    "\n",
    "rule bowtie_map:\n",
    "    input:\n",
    "        fq1 = 'FoxA1.fq',\n",
    "    output:\n",
    "        o1 = 'mapped_reads/FoxA1.out',\n",
    "        o2 = 'mapped_reads/FoxA1.sam',\n",
    "    shell:\n",
    "        'bowtie {index} -q {input.fq1} -m 1 -5 10 -3 10 -p 32 -S 2> {output.o1} >{output.o2}'"
   ]
  },
  {
   "cell_type": "code",
   "execution_count": null,
   "metadata": {
    "pycharm": {
     "name": "#%%\n"
    },
    "slideshow": {
     "slide_type": "slide"
    }
   },
   "outputs": [],
   "source": [
    "snakemake -ns snakefile01"
   ]
  },
  {
   "cell_type": "code",
   "execution_count": null,
   "metadata": {
    "pycharm": {
     "name": "#%%\n"
    },
    "slideshow": {
     "slide_type": "slide"
    }
   },
   "outputs": [],
   "source": [
    "Results\n"
   ]
  },
  {
   "cell_type": "code",
   "execution_count": null,
   "metadata": {
    "pycharm": {
     "name": "#%%\n"
    },
    "slideshow": {
     "slide_type": "slide"
    }
   },
   "outputs": [],
   "source": [
    "snakemake -ps snakefile01"
   ]
  },
  {
   "cell_type": "code",
   "execution_count": null,
   "metadata": {
    "pycharm": {
     "name": "#%%\n"
    },
    "slideshow": {
     "slide_type": "slide"
    }
   },
   "outputs": [],
   "source": [
    "Results\n",
    "\n",
    "\n",
    "\n",
    "\n",
    "\n",
    "\n",
    "\n"
   ]
  },
  {
   "cell_type": "code",
   "execution_count": null,
   "metadata": {
    "pycharm": {
     "name": "#%%\n"
    },
    "slideshow": {
     "slide_type": "slide"
    }
   },
   "outputs": [],
   "source": [
    "%%writefile snakefile01\n",
    "\n",
    "# AUTHOR: DouTY\n",
    "\n",
    "'''\n",
    "This pipeline for ChIP-Seq data analysis, which goes from fastq to bam and bam.bai, ready for igv visualization.\n",
    "for single-end ChIP-Seq data, and requires a reference index.\n",
    "'''\n",
    "\n",
    "samples = 'FoxA1 Input 298-301'\n",
    "\n",
    "rule all:\n",
    "    input:\n",
    "        expand('/home/dell/DouTY/FoxA1/{sample}.fq', sample=samples.split(' '))\n",
    "\n",
    "rule bowtie_map:\n",
    "    input:\n",
    "        index = '/home/dell/RefGenome/hg19ebwt/hg19',\n",
    "        fq = '/home/dell/DouTY/FoxA1/{sample}.fq'\n",
    "    output:\n",
    "        o1 = '/home/dell/DouTY/FoxA1/mapped_reads/{sample}.out',\n",
    "        o2 = '/home/dell/DouTY/FoxA1/mapped_reads/{sample}.sam',\n",
    "    shell:\n",
    "        'bowtie -m 1 -5 10 -3 10 -p 32 -s {input.index} -q {input.fq} 2> {output.o1} >{output.o2}'\n",
    "        \n"
   ]
  },
  {
   "cell_type": "code",
   "execution_count": null,
   "metadata": {
    "pycharm": {
     "name": "#%%\n"
    },
    "slideshow": {
     "slide_type": "slide"
    }
   },
   "outputs": [],
   "source": [
    "!snakemake -ns snakefile01\n"
   ]
  },
  {
   "cell_type": "code",
   "execution_count": null,
   "metadata": {
    "pycharm": {
     "name": "#%%\n"
    },
    "slideshow": {
     "slide_type": "slide"
    }
   },
   "outputs": [],
   "source": [
    "!snakemake -ps snakefile01\n"
   ]
  },
  {
   "cell_type": "markdown",
   "metadata": {
    "slideshow": {
     "slide_type": "slide"
    }
   },
   "source": [
    "rule samtools_sort:\n",
    "    input:\n",
    "        '/home/dell/DouTY/FoxA1/mapped_reads/{sample}.sam'\n",
    "    output:\n",
    "        '/home/dell/DouTY/FoxA1/sorted_reads/{sample}.bam'\n",
    "    shell:\n",
    "        'samtools sort -@ 8 -o {input} {output}'\n",
    " \n",
    "\n",
    "   \n"
   ]
  },
  {
   "cell_type": "code",
   "execution_count": null,
   "metadata": {
    "pycharm": {
     "name": "#%%\n"
    },
    "slideshow": {
     "slide_type": "slide"
    }
   },
   "outputs": [],
   "source": [
    "rule samtools_index:\n",
    "    input:\n",
    "        '/home/dell/DouTY/FoxA1/sorted_reads/{sample}.bam' \n",
    "    output:\n",
    "        '/home/dell/DouTY/FoxA1/sorted_reads/{sample}.bam.bai'\n",
    "    shell:\n",
    "        'samtools index {input}' \n"
   ]
  },
  {
   "cell_type": "code",
   "execution_count": null,
   "metadata": {
    "pycharm": {
     "name": "#%%\n"
    },
    "slideshow": {
     "slide_type": "slide"
    }
   },
   "outputs": [],
   "source": [
    "#Data Visualization using Deeptools\n",
    "\n",
    "plotEnrichment [-h] --bamfiles FoxA1.bam 298-301.bam Input.bam"
   ]
  },
  {
   "cell_type": "markdown",
   "metadata": {
    "slideshow": {
     "slide_type": "slide"
    }
   },
   "source": [
    "![Enrichment](Enrichment.png)"
   ]
  },
  {
   "cell_type": "code",
   "execution_count": null,
   "metadata": {
    "pycharm": {
     "name": "#%%\n"
    },
    "slideshow": {
     "slide_type": "slide"
    }
   },
   "outputs": [],
   "source": [
    "#Data Visualization using the Integrative Genomics Viewer (IGV)\n"
   ]
  }
 ],
 "metadata": {
  "celltoolbar": "Slideshow",
  "kernelspec": {
   "display_name": "Python 3",
   "language": "python",
   "name": "python3"
  },
  "language_info": {
   "codemirror_mode": {
    "name": "ipython",
    "version": 3
   },
   "file_extension": ".py",
   "mimetype": "text/x-python",
   "name": "python",
   "nbconvert_exporter": "python",
   "pygments_lexer": "ipython3",
   "version": "3.7.3"
  },
  "pycharm": {
   "stem_cell": {
    "cell_type": "raw",
    "metadata": {
     "collapsed": false
    },
    "source": []
   }
  }
 },
 "nbformat": 4,
 "nbformat_minor": 1
}
