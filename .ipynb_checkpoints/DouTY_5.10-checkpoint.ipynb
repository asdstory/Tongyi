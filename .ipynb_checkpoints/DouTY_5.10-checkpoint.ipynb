{
 "cells": [
  {
   "cell_type": "code",
   "execution_count": null,
   "metadata": {
    "collapsed": true,
    "pycharm": {
     "name": "#%%#%%\n"
    },
    "slideshow": {
     "slide_type": "slide"
    }
   },
   "outputs": [],
   "source": [
    "#Install snakemake\n",
    "conda install -c bioconda -c conda-forge snakemake\n"
   ]
  },
  {
   "cell_type": "code",
   "execution_count": null,
   "metadata": {
    "pycharm": {
     "name": "#%%\n"
    },
    "slideshow": {
     "slide_type": "slide"
    }
   },
   "outputs": [],
   "source": []
  },
  {
   "cell_type": "code",
   "execution_count": null,
   "metadata": {
    "pycharm": {
     "name": "#%%\n"
    },
    "slideshow": {
     "slide_type": "slide"
    }
   },
   "outputs": [],
   "source": [
    "%%writefile snakefile01\n",
    "\n",
    "# AUTHOR: DouTY\n",
    "\n",
    "'''\n",
    "This pipeline for ChIP-Seq data analysis, which goes from fastq to bam and bam.bai, ready for igv visualization.\n",
    "for single-end ChIP-Seq data, and requires a reference index.\n",
    "'''\n",
    "\n",
    "samples = 'FoxA1 Input 298-301'\n",
    "\n",
    "rule all:\n",
    "    input:\n",
    "        expand('/home/dell/DouTY/FoxA1/{sample}.fq', sample=samples.split(' '))\n",
    "\n",
    "rule bowtie_map:\n",
    "    input:\n",
    "        index = '/home/dell/RefGenome/hg19ebwt/hg19',\n",
    "        fq = '/home/dell/DouTY/FoxA1/{sample}.fq'\n",
    "    output:\n",
    "        o1 = '/home/dell/DouTY/FoxA1/mapped_reads/{sample}.out',\n",
    "        o2 = '/home/dell/DouTY/FoxA1/mapped_reads/{sample}.sam',\n",
    "    shell:\n",
    "        'bowtie -m 1 -5 10 -3 10 -p 32 -s {input.index} -q {input.fq} 2> {output.o1} >{output.o2}'\n",
    "        \n"
   ]
  }
 ],
 "metadata": {
  "celltoolbar": "Slideshow",
  "kernelspec": {
   "display_name": "Python 3",
   "language": "python",
   "name": "python3"
  },
  "language_info": {
   "codemirror_mode": {
    "name": "ipython",
    "version": 3
   },
   "file_extension": ".py",
   "mimetype": "text/x-python",
   "name": "python",
   "nbconvert_exporter": "python",
   "pygments_lexer": "ipython3",
   "version": "3.7.3"
  },
  "pycharm": {
   "stem_cell": {
    "cell_type": "raw",
    "metadata": {
     "collapsed": false
    },
    "source": []
   }
  }
 },
 "nbformat": 4,
 "nbformat_minor": 1
}
