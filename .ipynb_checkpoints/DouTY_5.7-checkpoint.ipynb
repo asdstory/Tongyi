{
 "cells": [
  {
   "cell_type": "code",
   "execution_count": 4,
   "metadata": {},
   "outputs": [
    {
     "data": {
      "text/plain": [
       "'C:\\\\Users\\\\asdst_000\\\\PycharmProjects\\\\Tongyi'"
      ]
     },
     "execution_count": 4,
     "metadata": {},
     "output_type": "execute_result"
    }
   ],
   "source": [
    "pwd"
   ]
  },
  {
   "cell_type": "code",
   "execution_count": null,
   "metadata": {},
   "outputs": [],
   "source": [
    "#Install Miniconda Python 3 Distribution on my Linux\n",
    "sh Miniconda3-latest-Linux-x86_64.sh"
   ]
  },
  {
   "cell_type": "code",
   "execution_count": 7,
   "metadata": {},
   "outputs": [
    {
     "name": "stdout",
     "output_type": "stream",
     "text": [
      "\n",
      "The following command must be run outside of the IPython shell:\n",
      "\n",
      "    $ pip install anaconda\n",
      "\n",
      "The Python package manager (pip) can only be used from outside of IPython.\n",
      "Please reissue the `pip` command in a separate terminal or command prompt.\n",
      "\n",
      "See the Python documentation for more information on how to install packages:\n",
      "\n",
      "    https://docs.python.org/3/installing/\n"
     ]
    }
   ],
   "source": []
  },
  {
   "cell_type": "code",
   "execution_count": 5,
   "metadata": {},
   "outputs": [
    {
     "ename": "SyntaxError",
     "evalue": "invalid syntax (<ipython-input-5-dfc54a5fee3e>, line 2)",
     "output_type": "error",
     "traceback": [
      "\u001b[1;36m  File \u001b[1;32m\"<ipython-input-5-dfc54a5fee3e>\"\u001b[1;36m, line \u001b[1;32m2\u001b[0m\n\u001b[1;33m    conda install -c bioconda -c conda-forge snakemake\u001b[0m\n\u001b[1;37m                ^\u001b[0m\n\u001b[1;31mSyntaxError\u001b[0m\u001b[1;31m:\u001b[0m invalid syntax\n"
     ]
    }
   ],
   "source": [
    "#Install snakemake\n",
    "conda install -c bioconda -c conda-forge snakemake"
   ]
  },
  {
   "cell_type": "code",
   "execution_count": 8,
   "metadata": {},
   "outputs": [
    {
     "name": "stdout",
     "output_type": "stream",
     "text": [
      "# conda environments:\n",
      "#\n",
      "base                  *  C:\\ProgramData\\Anaconda3\n",
      "\n",
      "\u001b[0m\u001b[0m\n"
     ]
    }
   ],
   "source": [
    "!conda env list"
   ]
  },
  {
   "cell_type": "code",
   "execution_count": 9,
   "metadata": {},
   "outputs": [
    {
     "ename": "SyntaxError",
     "evalue": "invalid syntax (<ipython-input-9-dfc54a5fee3e>, line 2)",
     "output_type": "error",
     "traceback": [
      "\u001b[1;36m  File \u001b[1;32m\"<ipython-input-9-dfc54a5fee3e>\"\u001b[1;36m, line \u001b[1;32m2\u001b[0m\n\u001b[1;33m    conda install -c bioconda -c conda-forge snakemake\u001b[0m\n\u001b[1;37m                ^\u001b[0m\n\u001b[1;31mSyntaxError\u001b[0m\u001b[1;31m:\u001b[0m invalid syntax\n"
     ]
    }
   ],
   "source": [
    "#Install snakemake\n",
    "conda install -c bioconda -c conda-forge snakemake"
   ]
  },
  {
   "cell_type": "code",
   "execution_count": 10,
   "metadata": {},
   "outputs": [
    {
     "name": "stderr",
     "output_type": "stream",
     "text": [
      "'grep' is not recognized as an internal or external command,\n",
      "operable program or batch file.\n"
     ]
    }
   ],
   "source": [
    "!conda list | grep -Ei \"snakemake|samtools|picard|bwa|gatk|python\""
   ]
  },
  {
   "cell_type": "code",
   "execution_count": 11,
   "metadata": {},
   "outputs": [
    {
     "name": "stdout",
     "output_type": "stream",
     "text": [
      "Overwriting snakefile01\n"
     ]
    }
   ],
   "source": [
    "%%writefile snakefile01\n",
    "\n",
    "# AUTHOR: DouTY\n",
    "\n",
    "'''\n",
    "This pipeline for ChIP-Seq data analysis, which goes from fastq to bam and bam.bai, ready for igv visualization.\n",
    "for single-end ChIP-Seq data, and requires a reference index.\n",
    "'''\n",
    "\n",
    "samples = 'FoxA1 Input 298-301'\n",
    "\n",
    "rule all:\n",
    "    input:\n",
    "        expand('/home/dell/DouTY/FoxA1/{sample}.fq', sample=samples.split(' '))\n",
    "\n",
    "rule bowtie_map:\n",
    "    input:\n",
    "        index = '/home/dell/RefGenome/hg19ebwt/hg19',\n",
    "        fq = '/home/dell/DouTY/FoxA1/{sample}.fq'\n",
    "    output:\n",
    "        o1 = '/home/dell/DouTY/FoxA1/mapped_reads/{sample}.out',\n",
    "        o2 = '/home/dell/DouTY/FoxA1/mapped_reads/{sample}.sam',\n",
    "    shell:\n",
    "        'bowtie -m 1 -5 10 -3 10 -p 32 -s {input.index} -q {input.fq} 2> {output.o1} >{output.o2}'"
   ]
  },
  {
   "cell_type": "code",
   "execution_count": 12,
   "metadata": {},
   "outputs": [
    {
     "name": "stderr",
     "output_type": "stream",
     "text": [
      "'snakemake' is not recognized as an internal or external command,\n",
      "operable program or batch file.\n"
     ]
    }
   ],
   "source": [
    "!snakemake -ns snakefile01"
   ]
  },
  {
   "cell_type": "code",
   "execution_count": 13,
   "metadata": {},
   "outputs": [
    {
     "name": "stderr",
     "output_type": "stream",
     "text": [
      "'snakemake' is not recognized as an internal or external command,\n",
      "operable program or batch file.\n"
     ]
    }
   ],
   "source": [
    "!snakemake -ps snakefile01"
   ]
  },
  {
   "cell_type": "code",
   "execution_count": null,
   "metadata": {
    "collapsed": true
   },
   "outputs": [],
   "source": [
    "rule samtools_sort:\n",
    "    input:\n",
    "        '/home/dell/DouTY/FoxA1/mapped_reads/{sample}.sam'\n",
    "    output:\n",
    "        '/home/dell/DouTY/FoxA1/sorted_reads/{sample}.bam'\n",
    "    shell:\n",
    "        'samtools sort -@ 8 -o {input} {output}'"
   ]
  },
  {
   "cell_type": "code",
   "execution_count": null,
   "metadata": {
    "collapsed": true
   },
   "outputs": [],
   "source": [
    "rule samtools_index:\n",
    "    input:\n",
    "        '/home/dell/DouTY/FoxA1/sorted_reads/{sample}.bam' \n",
    "    output:\n",
    "        '/home/dell/DouTY/FoxA1/sorted_reads/{sample}.bam.bai'\n",
    "    shell:\n",
    "        'samtools index {input}' \n"
   ]
  },
  {
   "cell_type": "code",
   "execution_count": null,
   "metadata": {
    "collapsed": true
   },
   "outputs": [],
   "source": [
    "#Data Visualization using Deeptools\n",
    "\n",
    "plotEnrichment [-h] --bamfiles FoxA1.bam 298-301.bam Input.bam"
   ]
  },
  {
   "cell_type": "code",
   "execution_count": null,
   "metadata": {
    "collapsed": true
   },
   "outputs": [],
   "source": [
    "#Data Visualization using the Integrative Genomics Viewer (IGV)\n"
   ]
  }
 ],
 "metadata": {
  "kernelspec": {
   "display_name": "Python 3",
   "language": "python",
   "name": "python3"
  },
  "language_info": {
   "codemirror_mode": {
    "name": "ipython",
    "version": 3
   },
   "file_extension": ".py",
   "mimetype": "text/x-python",
   "name": "python",
   "nbconvert_exporter": "python",
   "pygments_lexer": "ipython3",
   "version": "3.7.1"
  }
 },
 "nbformat": 4,
 "nbformat_minor": 1
}
